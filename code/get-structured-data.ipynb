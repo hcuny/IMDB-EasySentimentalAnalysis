{
 "cells": [
  {
   "cell_type": "code",
   "execution_count": 1,
   "metadata": {
    "collapsed": false
   },
   "outputs": [],
   "source": [
    "import os\n",
    "import glob\n",
    "import pyprind\n",
    "import pip\n",
    "import re\n",
    "import pandas as pd"
   ]
  },
  {
   "cell_type": "code",
   "execution_count": 2,
   "metadata": {
    "collapsed": false
   },
   "outputs": [],
   "source": [
    "#train pos\n",
    "f_tr_pos_raw=os.listdir(\"Y://data//rev_IMDB//train//pos\")\n",
    "#sort file names by movie Id\n",
    "f_tr_pos=sorted(f_tr_pos_raw,key=lambda x: int(x.split('_')[0]))"
   ]
  },
  {
   "cell_type": "code",
   "execution_count": 3,
   "metadata": {
    "collapsed": false
   },
   "outputs": [
    {
     "name": "stdout",
     "output_type": "stream",
     "text": [
      "12500\n",
      "12500\n"
     ]
    }
   ],
   "source": [
    "print(len(f_tr_pos))\n",
    "print(len(set([ele.split('_')[0] for ele in f_tr_pos])))\n",
    "# No repeat in movie_id"
   ]
  },
  {
   "cell_type": "code",
   "execution_count": 4,
   "metadata": {
    "collapsed": false
   },
   "outputs": [],
   "source": [
    "path_tr_pos_raw='Y://Data//rev_Imdb//train//pos'\n",
    "path_tr_pos=['{0}//{1}'.format(path_tr_pos_raw,ele) for ele in f_tr_pos]"
   ]
  },
  {
   "cell_type": "code",
   "execution_count": 6,
   "metadata": {
    "collapsed": false
   },
   "outputs": [
    {
     "data": {
      "text/plain": [
       "['Y://Data//rev_Imdb//train//pos//0_9.txt',\n",
       " 'Y://Data//rev_Imdb//train//pos//1_7.txt',\n",
       " 'Y://Data//rev_Imdb//train//pos//2_9.txt',\n",
       " 'Y://Data//rev_Imdb//train//pos//3_10.txt',\n",
       " 'Y://Data//rev_Imdb//train//pos//4_8.txt',\n",
       " 'Y://Data//rev_Imdb//train//pos//5_10.txt',\n",
       " 'Y://Data//rev_Imdb//train//pos//6_10.txt',\n",
       " 'Y://Data//rev_Imdb//train//pos//7_7.txt',\n",
       " 'Y://Data//rev_Imdb//train//pos//8_7.txt',\n",
       " 'Y://Data//rev_Imdb//train//pos//9_7.txt']"
      ]
     },
     "execution_count": 6,
     "metadata": {},
     "output_type": "execute_result"
    }
   ],
   "source": [
    "#get list of structured path (train-positive)\n",
    "path_tr_pos[:10]"
   ]
  },
  {
   "cell_type": "code",
   "execution_count": 83,
   "metadata": {
    "collapsed": false
   },
   "outputs": [
    {
     "name": "stderr",
     "output_type": "stream",
     "text": [
      "0%                          100%\n",
      "[##############################] | ETA: 00:00:00\n",
      "Total time elapsed: 00:00:03\n"
     ]
    }
   ],
   "source": [
    "# containing HTML markup, remove \n",
    "pbar = pyprind.ProgBar(len(path_tr_pos),monitor=True)\n",
    "mid=[]\n",
    "rating=[]\n",
    "rev=[]\n",
    "for i in range(len(path_tr_pos)):\n",
    "    \n",
    "    # a_b --> movieID_rating\n",
    "    mid_ele=f_tr_pos[i].split('_')[0]\n",
    "    rating_ele=int(f_tr_pos[i].split('_')[1].split('.')[0])\n",
    "    \n",
    "    ele=path_tr_pos[i]\n",
    "    #read text data & decode\n",
    "    raw=open(ele,'rb').read().decode('utf8')\n",
    "    #remove HTML markup at first place\n",
    "    text=re.sub('<[^>]*>','',raw)\n",
    "    text=re.sub('[\\W]+', ' ',text.lower())\n",
    "    \n",
    "    rev.append(text)\n",
    "    mid.append(mid_ele)\n",
    "    rating.append(rating_ele)\n",
    "    pbar.update()\n",
    "    \n",
    "    \n",
    "pos_df = pd.DataFrame({'Movie_Id': mid,'Rating':rating,'Review':rev})\n",
    "pos_df['Sentiment']=1"
   ]
  },
  {
   "cell_type": "code",
   "execution_count": 90,
   "metadata": {
    "collapsed": false
   },
   "outputs": [],
   "source": [
    "pos_df.to_csv('Y://Data//rev_Imdb//train_pos.csv',index=False)"
   ]
  },
  {
   "cell_type": "code",
   "execution_count": null,
   "metadata": {
    "collapsed": true
   },
   "outputs": [],
   "source": []
  },
  {
   "cell_type": "code",
   "execution_count": 79,
   "metadata": {
    "collapsed": true
   },
   "outputs": [],
   "source": [
    "f_tr_neg_raw=os.listdir(\"Y://data//rev_IMDB//train//neg\")\n",
    "#sort file names by movie Id\n",
    "f_tr_neg=sorted(f_tr_neg_raw,key=lambda x: int(x.split('_')[0]))\n",
    "\n",
    "path_tr_neg_raw='Y://Data//rev_Imdb//train//neg'\n",
    "\n",
    "path_tr_neg=['{0}//{1}'.format(path_tr_neg_raw,ele) for ele in f_tr_neg]"
   ]
  },
  {
   "cell_type": "code",
   "execution_count": 91,
   "metadata": {
    "collapsed": false
   },
   "outputs": [
    {
     "name": "stderr",
     "output_type": "stream",
     "text": [
      "0%                          100%\n",
      "[##############################] | ETA: 00:00:00\n",
      "Total time elapsed: 00:00:03\n"
     ]
    }
   ],
   "source": [
    "pbar = pyprind.ProgBar(len(path_tr_neg),monitor=True)\n",
    "mid=[]\n",
    "rating=[]\n",
    "rev=[]\n",
    "for i in range(len(path_tr_neg)):    \n",
    "    mid_ele=f_tr_neg[i].split('_')[0]\n",
    "    rating_ele=int(f_tr_neg[i].split('_')[1].split('.')[0])\n",
    "    \n",
    "    ele=path_tr_neg[i]\n",
    "    raw=open(ele,'rb').read().decode('utf8')\n",
    "    \n",
    "    text=re.sub('<[^>]*>','',raw)\n",
    "    text=re.sub('[\\W]+', ' ',text.lower())\n",
    "    \n",
    "    rev.append(text)\n",
    "    mid.append(mid_ele)\n",
    "    rating.append(rating_ele)\n",
    "    pbar.update()\n",
    "    \n",
    "neg_df = pd.DataFrame({'Movie_Id': mid,'Rating':rating,'Review':rev})\n",
    "neg_df['Sentiment']= 0\n",
    "neg_df.to_csv('Y://Data//rev_Imdb//train_neg.csv',index=False)"
   ]
  },
  {
   "cell_type": "code",
   "execution_count": null,
   "metadata": {
    "collapsed": true
   },
   "outputs": [],
   "source": []
  },
  {
   "cell_type": "code",
   "execution_count": null,
   "metadata": {
    "collapsed": true
   },
   "outputs": [],
   "source": [
    "#-------------------------------------------------Test Data--------------------------------------------------------"
   ]
  },
  {
   "cell_type": "code",
   "execution_count": 94,
   "metadata": {
    "collapsed": true
   },
   "outputs": [],
   "source": [
    "#train pos\n",
    "f_te_pos_raw=os.listdir(\"Y://data//rev_IMDB//test//pos\")\n",
    "#sort file names by movie Id\n",
    "f_te_pos=sorted(f_te_pos_raw,key=lambda x: int(x.split('_')[0]))"
   ]
  },
  {
   "cell_type": "code",
   "execution_count": 95,
   "metadata": {
    "collapsed": true
   },
   "outputs": [],
   "source": [
    "path_te_pos_raw='Y://Data//rev_Imdb//test//pos'\n",
    "path_te_pos=['{0}//{1}'.format(path_te_pos_raw,ele) for ele in f_te_pos]"
   ]
  },
  {
   "cell_type": "code",
   "execution_count": 97,
   "metadata": {
    "collapsed": false
   },
   "outputs": [
    {
     "name": "stderr",
     "output_type": "stream",
     "text": [
      "0%                          100%\n",
      "[##############################] | ETA: 00:00:00\n",
      "Total time elapsed: 00:00:30\n"
     ]
    }
   ],
   "source": [
    "pbar = pyprind.ProgBar(len(path_te_pos),monitor=True)\n",
    "mid=[]\n",
    "rating=[]\n",
    "rev=[]\n",
    "for i in range(len(path_te_pos)):\n",
    "    \n",
    "    mid_ele=f_te_pos[i].split('_')[0]\n",
    "    rating_ele=int(f_te_pos[i].split('_')[1].split('.')[0])\n",
    "    \n",
    "    ele=path_te_pos[i]\n",
    "    raw=open(ele,'rb').read().decode('utf8')\n",
    "    \n",
    "    text=re.sub('<[^>]*>','',raw)\n",
    "    text=re.sub('[\\W]+', ' ',text.lower())\n",
    "    \n",
    "    rev.append(text)\n",
    "    mid.append(mid_ele)\n",
    "    rating.append(rating_ele)\n",
    "    pbar.update()\n",
    "    \n",
    "    \n",
    "pos_df = pd.DataFrame({'Movie_Id': mid,'Rating':rating,'Review':rev})\n",
    "pos_df['Sentiment']=1\n",
    "pos_df.to_csv('Y://Data//rev_Imdb//test_pos.csv',index=False)"
   ]
  },
  {
   "cell_type": "code",
   "execution_count": null,
   "metadata": {
    "collapsed": true
   },
   "outputs": [],
   "source": []
  },
  {
   "cell_type": "code",
   "execution_count": 98,
   "metadata": {
    "collapsed": true
   },
   "outputs": [],
   "source": [
    "f_te_neg_raw=os.listdir(\"Y://data//rev_IMDB//test//neg\")\n",
    "#sort file names by movie Id\n",
    "f_te_neg=sorted(f_te_neg_raw,key=lambda x: int(x.split('_')[0]))\n",
    "\n",
    "path_te_neg_raw='Y://Data//rev_Imdb//test//neg'\n",
    "\n",
    "path_te_neg=['{0}//{1}'.format(path_te_neg_raw,ele) for ele in f_te_neg]"
   ]
  },
  {
   "cell_type": "code",
   "execution_count": 99,
   "metadata": {
    "collapsed": false
   },
   "outputs": [
    {
     "name": "stderr",
     "output_type": "stream",
     "text": [
      "0%                          100%\n",
      "[##############################] | ETA: 00:00:00\n",
      "Total time elapsed: 00:00:31\n"
     ]
    }
   ],
   "source": [
    "pbar = pyprind.ProgBar(len(path_tr_neg),monitor=True)\n",
    "mid=[]\n",
    "rating=[]\n",
    "rev=[]\n",
    "for i in range(len(path_te_neg)):    \n",
    "    mid_ele=f_te_neg[i].split('_')[0]\n",
    "    rating_ele=int(f_te_neg[i].split('_')[1].split('.')[0])\n",
    "    \n",
    "    ele=path_te_neg[i]\n",
    "    raw=open(ele,'rb').read().decode('utf8')\n",
    "    \n",
    "    text=re.sub('<[^>]*>','',raw)\n",
    "    text=re.sub('[\\W]+', ' ',text.lower())\n",
    "    \n",
    "    rev.append(text)\n",
    "    mid.append(mid_ele)\n",
    "    rating.append(rating_ele)\n",
    "    pbar.update()\n",
    "    \n",
    "neg_df = pd.DataFrame({'Movie_Id': mid,'Rating':rating,'Review':rev})\n",
    "neg_df['Sentiment']= 0\n",
    "neg_df.to_csv('Y://Data//rev_Imdb//test_neg.csv',index=False)"
   ]
  },
  {
   "cell_type": "code",
   "execution_count": null,
   "metadata": {
    "collapsed": true
   },
   "outputs": [],
   "source": []
  }
 ],
 "metadata": {
  "kernelspec": {
   "display_name": "Python [Root]",
   "language": "python",
   "name": "Python [Root]"
  },
  "language_info": {
   "codemirror_mode": {
    "name": "ipython",
    "version": 3
   },
   "file_extension": ".py",
   "mimetype": "text/x-python",
   "name": "python",
   "nbconvert_exporter": "python",
   "pygments_lexer": "ipython3",
   "version": "3.5.2"
  }
 },
 "nbformat": 4,
 "nbformat_minor": 0
}
